{
 "cells": [
  {
   "cell_type": "markdown",
   "id": "a3017ea5",
   "metadata": {},
   "source": [
    "# Уравнение Кеплера"
   ]
  },
  {
   "cell_type": "markdown",
   "id": "c6c8ee02",
   "metadata": {},
   "source": [
    "Уравнение Кеплера для вычисления орбиты имеет вид: $$ M = E - \\varepsilon sinE $$"
   ]
  },
  {
   "cell_type": "markdown",
   "id": "ec55424d",
   "metadata": {},
   "source": [
    "где M – средняя аномалия, E – эксцентрическая аномалия, $\\varepsilon$ – эксцентриситет орбиты. "
   ]
  },
  {
   "cell_type": "markdown",
   "id": "a60d68ad",
   "metadata": {},
   "source": [
    "Пусть M = 24.851090, $\\varepsilon$ = 0.1"
   ]
  },
  {
   "cell_type": "markdown",
   "id": "57de432b",
   "metadata": {},
   "source": [
    "1. Импорт библиотек"
   ]
  },
  {
   "cell_type": "code",
   "execution_count": 25,
   "id": "ee16e13d",
   "metadata": {},
   "outputs": [],
   "source": [
    "from scipy.optimize import brentq\n",
    "from math import sin, cos, sqrt, factorial\n",
    "import matplotlib.pyplot as plt\n",
    "from scipy.special import jv"
   ]
  },
  {
   "cell_type": "markdown",
   "id": "eb8a5c57",
   "metadata": {},
   "source": [
    "2. Вывод уравнения Кеплера:"
   ]
  },
  {
   "cell_type": "markdown",
   "id": "b7e7ecef",
   "metadata": {},
   "source": [
    "$$sqrt(1-e^2)$$\n",
    "e — эксцентриситет."
   ]
  },
  {
   "cell_type": "markdown",
   "id": "2f30572e",
   "metadata": {},
   "source": [
    "Площадь эллипса равна:\n",
    "\n",
    "$$S=\\pi a^2\\sqrt{1-e^2}$$\n",
    "где a — большая полуось. "
   ]
  },
  {
   "cell_type": "markdown",
   "id": "11d6da8e",
   "metadata": {},
   "source": [
    "Согласно второму закону Кеплера, который гласит, что площадь, заметаемая радиус-вектором небесного тела пропорциональна времени, можно написать:\n",
    "\n",
    "$$S(t)=\\frac{\\pi a^2\\sqrt{1-e^2}*(t-t_0)}{T}$$\n",
    "где T — период обращения, t — текущее время, $t_0$ — момент времени прохождения перигелия (ближайшей к Солнцу точки орбиты)."
   ]
  },
  {
   "cell_type": "markdown",
   "id": "4dd34453",
   "metadata": {},
   "source": [
    "Найдем зависимость площади от положения небесного тела на орбите, то есть от величины радиус-вектора r и истинной аномалии — угла между перигелием и небесным телом, если смотреть с Солнца.\n",
    "\n",
    "Для этого введем дополнительную переменную — эксцентрическую аномалию E. Направим ось x от Солнца (начала координат), которое находится в одном из фокусов эллипса, в сторону перигелия по линии апсид (прямой, соединяющей перицентр с апоцентром). Создадим также вспомогательную окружность с радиусом, равным большой полуоси эллипса."
   ]
  },
  {
   "cell_type": "markdown",
   "id": "a8250c5e",
   "metadata": {},
   "source": [
    "Абсцисса небесного тела в точке P будет равна: $x=cos(E)-ae$\n",
    "\n",
    "Ордината будет, соответственно, равна: $y=asin(E)\\sqrt{1-e^2}$\n",
    "\n",
    "Таким образом, получаем: $x=rcos(v)=acos(E)-e$ ; $y=rsin(v)=asin(E)\\sqrt{1-e^2}$\n",
    "\n",
    "Для вычисления площади S рассмотрим вспомогательные фигуры: сектор окружности P'-O-Per: $S1=\\frac{a^2E}{2}$\n",
    "\n",
    "Сектор эллипса P-O-Per: $S2=S1\\sqrt{1-e^2}$\n",
    "\n",
    "Треугольник O-O'-P: $S3=\\frac{1}{2}(yae)=\\frac{1}{2}a^2esinE\\sqrt{1-e^2}$\n",
    "\n",
    "Сектор P-O'-Per: $S=S2-S3$\n",
    "\n",
    "Отсюда, прощадь S равна: $S(t)=\\frac{1}{2}a^2\\sqrt{1-e^2}(E-esin(E))$\n",
    "\n",
    "Сравнивая это выражение с выведенным ранее из второго закона Кеплера, получаем: $M(t)=E(t)-esin(E(t))$ , где $M(t)=\\frac{2\\pi t}{T}$"
   ]
  },
  {
   "cell_type": "markdown",
   "id": "9f0768b4",
   "metadata": {},
   "source": [
    "![Картинка](https://sun9-52.userapi.com/s/v1/if2/Ywa0tpKcoUB3wncL_f3IJ6TpPpcQsrX5EaoRmIR5ua7h6bpbSL0P3D5lHhoNgg-4XT9_8pusGcILa25Gr6rVIYcM.jpg?size=400x400&quality=96&type=album)"
   ]
  },
  {
   "cell_type": "markdown",
   "id": "06ff6acc",
   "metadata": {},
   "source": [
    "3. Построим орбиту:"
   ]
  },
  {
   "cell_type": "code",
   "execution_count": 24,
   "id": "029e9af3",
   "metadata": {},
   "outputs": [
    {
     "data": {
      "image/png": "[encoded data removed]",
      "text/plain": [
       "<Figure size 432x288 with 1 Axes>"
      ]
     },
     "metadata": {
      "needs_background": "light"
     },
     "output_type": "display_data"
    }
   ],
   "source": [
    "from numpy import*\n",
    "from matplotlib.pyplot import*\n",
    "%matplotlib inline\n",
    "M=24.85109\n",
    "e=0.1\n",
    "a=149600000*1.52\n",
    "N=360\n",
    "def X(E):\n",
    "    return a*cos(E)-e\n",
    "def Y(E):\n",
    "    return a*sin(E)*sqrt(1-e**0.2)\n",
    "E=[i for i in arange(0,N,1)]\n",
    "X=array([X(w) for w in E])\n",
    "Y=array([Y(w) for w in E])\n",
    "figure()\n",
    "axis('equal')\n",
    "plot (X, Y, \"m\")\n",
    "grid(True)\n",
    "pass"
   ]
  },
  {
   "cell_type": "markdown",
   "id": "9b0e95f8",
   "metadata": {},
   "source": [
    "4. С помощью функции scipy.optimize.brentq найдём E."
   ]
  },
  {
   "cell_type": "code",
   "execution_count": 4,
   "id": "bd2edf52",
   "metadata": {},
   "outputs": [
    {
     "name": "stdout",
     "output_type": "stream",
     "text": [
      "24.820357182542907\n"
     ]
    }
   ],
   "source": [
    "from scipy import optimize\n",
    "from math import*\n",
    "from numpy import*\n",
    "𝑀=24.851090\n",
    "e=0.1\n",
    "def f(E):\n",
    "    return E-e*sin(E)-M\n",
    "k=optimize.brentq(f,-40,40)\n",
    "print(k)"
   ]
  },
  {
   "cell_type": "markdown",
   "id": "5e646eeb",
   "metadata": {},
   "source": [
    "5. Вычислим E с помощью формулы $$E = M + 2\\sum_{m=1}^\\infty \\frac{1}{m}J_m(m\\varepsilon)sin(mM)$$\n",
    "где $J_m(x)$ – функция Бесселя 1-го рода порядка m."
   ]
  },
  {
   "cell_type": "code",
   "execution_count": 14,
   "id": "1c39821f",
   "metadata": {},
   "outputs": [
    {
     "name": "stdout",
     "output_type": "stream",
     "text": [
      "24.8226530882530\n"
     ]
    }
   ],
   "source": [
    "m = 5\n",
    "Eps = 0.1\n",
    "M = 24.851090\n",
    "E1 = list()\n",
    "for i in range(1, m+1):\n",
    "    E1.append(1/i*jv(i, Eps)*sin(i*M))\n",
    "E1 = M + 2*sum(E1)\n",
    "print(E1)"
   ]
  },
  {
   "cell_type": "markdown",
   "id": "5f494c15",
   "metadata": {},
   "source": [
    "6. Найдите E по предыдущей формуле, используя равенство: $$ J_m(m\\varepsilon) = \\sum_{m=1}^\\infty \\frac{(-1)^n(m\\varepsilon/2)^{2n+m}}{n!(m+n)!} $$"
   ]
  },
  {
   "cell_type": "code",
   "execution_count": 19,
   "id": "83f1d39b",
   "metadata": {},
   "outputs": [
    {
     "name": "stdout",
     "output_type": "stream",
     "text": [
      "24.8203575498136\n"
     ]
    }
   ],
   "source": [
    "n = 10\n",
    "m = 5\n",
    "Eps = 0.1\n",
    "M = 24.851090\n",
    "E2 = list()\n",
    "for i in range(1, m+1):\n",
    "    Jv = [((-1)**j*((i*Eps)/2)**(2*j+i))/(factorial(j)*factorial(i+j)) for j in range(n)]\n",
    "    Jv = sum(Jv)\n",
    "    E2.append(1/i*Jv*sin(i*M))\n",
    "E2 = M + 2*sum(E2)\n",
    "print(E2)"
   ]
  },
  {
   "cell_type": "markdown",
   "id": "fdaf6268",
   "metadata": {},
   "source": [
    "1. 24.820357182542907\n",
    "2. 24.820357182542907\n",
    "3. 24.8203575498136"
   ]
  },
  {
   "cell_type": "markdown",
   "id": "96a56064",
   "metadata": {},
   "source": [
    "# Вывод"
   ]
  },
  {
   "cell_type": "markdown",
   "id": "dc35c8c7",
   "metadata": {},
   "source": [
    "1) Все 3 способа дали практически идентичный результат(погрешность = 10^(-9))"
   ]
  },
  {
   "cell_type": "markdown",
   "id": "8be117b0",
   "metadata": {},
   "source": [
    "2) Самый долгий способ - нахождение эксцентрической аномалии при помощи метода последовательных приближений с использованием формулы для функции Бесселя. Остальные два способа работают с примерно одинаковым быстродействием."
   ]
  }
 ],
 "metadata": {
  "kernelspec": {
   "display_name": "Python 3 (ipykernel)",
   "language": "python",
   "name": "python3"
  },
  "language_info": {
   "codemirror_mode": {
    "name": "ipython",
    "version": 3
   },
   "file_extension": ".py",
   "mimetype": "text/x-python",
   "name": "python",
   "nbconvert_exporter": "python",
   "pygments_lexer": "ipython3",
   "version": "3.9.7"
  }
 },
 "nbformat": 4,
 "nbformat_minor": 5
}
